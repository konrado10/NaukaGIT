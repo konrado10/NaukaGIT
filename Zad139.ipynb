{
  "nbformat": 4,
  "nbformat_minor": 0,
  "metadata": {
    "colab": {
      "name": "Zad139.ipynb",
      "provenance": [],
      "collapsed_sections": [
        "9kuI6e346JBM",
        "rSQLe2ey1hBS",
        "ppzobDQU7_ao",
        "bq4qq9yQ9yt_",
        "IkNUMAHIBKMs",
        "81nGhQOuC8Of",
        "SllwuFaFDCsO",
        "xgqUNhyROdw2",
        "jp2x4oTxPyfs",
        "aSvPiAQnTEDA",
        "eroEV1ZlTPyJ",
        "KdiPqGJ_qt0Y",
        "NYrkVNA7q0dc",
        "vtY6DYY_Wncb"
      ],
      "authorship_tag": "ABX9TyN9CTtxDYI2X9UxumzWvnAc",
      "include_colab_link": true
    },
    "kernelspec": {
      "name": "python3",
      "display_name": "Python 3"
    }
  },
  "cells": [
    {
      "cell_type": "markdown",
      "metadata": {
        "id": "view-in-github",
        "colab_type": "text"
      },
      "source": [
        "<a href=\"https://colab.research.google.com/github/konrado10/NaukaGIT/blob/master/Zad139.ipynb\" target=\"_parent\"><img src=\"https://colab.research.google.com/assets/colab-badge.svg\" alt=\"Open In Colab\"/></a>"
      ]
    },
    {
      "cell_type": "markdown",
      "metadata": {
        "id": "-O5beESl0w-n"
      },
      "source": [
        "#Deep Learning w języku Python - Konwolucyjne Sieci Neuronowe"
      ]
    },
    {
      "cell_type": "markdown",
      "metadata": {
        "id": "9kuI6e346JBM"
      },
      "source": [
        "## Funkcje aktywacji"
      ]
    },
    {
      "cell_type": "markdown",
      "metadata": {
        "id": "rSQLe2ey1hBS"
      },
      "source": [
        "### Zad 1 $f(x) = max(x,0) $"
      ]
    },
    {
      "cell_type": "code",
      "metadata": {
        "id": "-Asglpt_0tBG"
      },
      "source": [
        "import numpy as np\r\n",
        "import matplotlib.pyplot as plt\r\n",
        "import seaborn as sns\r\n",
        "sns.set()"
      ],
      "execution_count": 1,
      "outputs": []
    },
    {
      "cell_type": "code",
      "metadata": {
        "id": "0Dvv7pzH6j4d"
      },
      "source": [
        ""
      ],
      "execution_count": null,
      "outputs": []
    },
    {
      "cell_type": "code",
      "metadata": {
        "id": "PW2QdnS76wzL"
      },
      "source": [
        "#@title Example form fields\n",
        "#@markdown Forms support many types of fields.\n",
        "\n",
        "no_type_checking = ''  #@param\n",
        "string_type = 'example'  #@param {type: \"string\"}\n",
        "slider_value = 125  #@param {type: \"slider\", min: 100, max: 200}\n",
        "number = 102  #@param {type: \"number\"}\n",
        "date = '2010-11-05'  #@param {type: \"date\"}\n",
        "pick_me = \"monday\"  #@param ['monday', 'tuesday', 'wednesday', 'thursday']\n",
        "select_or_input = \"apples\" #@param [\"apples\", \"bananas\", \"oranges\"] {allow-input: true}\n",
        "#@markdown ---\n"
      ],
      "execution_count": 2,
      "outputs": []
    },
    {
      "cell_type": "code",
      "metadata": {
        "id": "x8y7vpoS6yvc"
      },
      "source": [
        "def max_relu(x):\r\n",
        "    return max(x,0)\r\n"
      ],
      "execution_count": 3,
      "outputs": []
    },
    {
      "cell_type": "code",
      "metadata": {
        "colab": {
          "base_uri": "https://localhost:8080/"
        },
        "id": "hJPR0e9o64p8",
        "outputId": "536d7316-9611-492c-fb2e-cb3b14a64a6e"
      },
      "source": [
        "for i in [-10,-5,0,5,10]:\r\n",
        "    print(max_relu(i))"
      ],
      "execution_count": 5,
      "outputs": [
        {
          "output_type": "stream",
          "text": [
            "0\n",
            "0\n",
            "0\n",
            "5\n",
            "10\n"
          ],
          "name": "stdout"
        }
      ]
    },
    {
      "cell_type": "code",
      "metadata": {
        "id": "mHP4JNgg6-3Q"
      },
      "source": [
        "data = np.arange(-5,5,0.1)\r\n",
        "data_relu = [max_relu(x) for x in data]"
      ],
      "execution_count": 6,
      "outputs": []
    },
    {
      "cell_type": "code",
      "metadata": {
        "colab": {
          "base_uri": "https://localhost:8080/",
          "height": 301
        },
        "id": "WtTFNBN47kVp",
        "outputId": "cf0481c8-1528-48c1-b38d-16896eb76bea"
      },
      "source": [
        "_ = plt.plot(data, data_relu)\r\n",
        "plt.title('ReLu')"
      ],
      "execution_count": 9,
      "outputs": [
        {
          "output_type": "execute_result",
          "data": {
            "text/plain": [
              "Text(0.5, 1.0, 'ReLu')"
            ]
          },
          "metadata": {
            "tags": []
          },
          "execution_count": 9
        },
        {
          "output_type": "display_data",
          "data": {
            "image/png": "[encoded data removed]",
            "text/plain": [
              "<Figure size 432x288 with 1 Axes>"
            ]
          },
          "metadata": {
            "tags": [],
            "needs_background": "light"
          }
        }
      ]
    },
    {
      "cell_type": "markdown",
      "metadata": {
        "id": "ppzobDQU7_ao"
      },
      "source": [
        "### Zad 2 Sigmoid\r\n",
        "#### $f(x) = \\frac{1}{1+e^{-x}}$"
      ]
    },
    {
      "cell_type": "code",
      "metadata": {
        "id": "qGe3kP-N7sWW"
      },
      "source": [
        "def sigmoid(x):\r\n",
        "    return 1./(1.+np.exp(-x))"
      ],
      "execution_count": 10,
      "outputs": []
    },
    {
      "cell_type": "code",
      "metadata": {
        "colab": {
          "base_uri": "https://localhost:8080/",
          "height": 301
        },
        "id": "m-Oleyav8y9h",
        "outputId": "3cff476a-674d-4477-efea-e2c8533d69ea"
      },
      "source": [
        "sigmoid_data = [sigmoid(x) for x in data]\r\n",
        "\r\n",
        "plt.plot(data, sigmoid_data, '--')\r\n",
        "plt.title('Sigmoid')"
      ],
      "execution_count": 12,
      "outputs": [
        {
          "output_type": "execute_result",
          "data": {
            "text/plain": [
              "Text(0.5, 1.0, 'Sigmoid')"
            ]
          },
          "metadata": {
            "tags": []
          },
          "execution_count": 12
        },
        {
          "output_type": "display_data",
          "data": {
            "image/png": "[encoded data removed]",
            "text/plain": [
              "<Figure size 432x288 with 1 Axes>"
            ]
          },
          "metadata": {
            "tags": [],
            "needs_background": "light"
          }
        }
      ]
    },
    {
      "cell_type": "markdown",
      "metadata": {
        "id": "bq4qq9yQ9yt_"
      },
      "source": [
        "### Zad 3 Softmax\r\n",
        "## $S(y_i)=\\frac{e^{y_i}}{\\sum_{j=1}^{i}e^{y_j}}$"
      ]
    },
    {
      "cell_type": "code",
      "metadata": {
        "colab": {
          "base_uri": "https://localhost:8080/",
          "height": 142
        },
        "id": "M6gEpc5A9nMk",
        "outputId": "fba7695f-a66c-4ced-8f48-f464b8515acb"
      },
      "source": [
        "data = np.random.randn(3,5)\r\n",
        "data\r\n",
        "\r\n",
        "import pandas as pd\r\n",
        "df = pd.DataFrame(data)\r\n",
        "df"
      ],
      "execution_count": 14,
      "outputs": [
        {
          "output_type": "execute_result",
          "data": {
            "text/html": [
              "<div>\n",
              "<style scoped>\n",
              "    .dataframe tbody tr th:only-of-type {\n",
              "        vertical-align: middle;\n",
              "    }\n",
              "\n",
              "    .dataframe tbody tr th {\n",
              "        vertical-align: top;\n",
              "    }\n",
              "\n",
              "    .dataframe thead th {\n",
              "        text-align: right;\n",
              "    }\n",
              "</style>\n",
              "<table border=\"1\" class=\"dataframe\">\n",
              "  <thead>\n",
              "    <tr style=\"text-align: right;\">\n",
              "      <th></th>\n",
              "      <th>0</th>\n",
              "      <th>1</th>\n",
              "      <th>2</th>\n",
              "      <th>3</th>\n",
              "      <th>4</th>\n",
              "    </tr>\n",
              "  </thead>\n",
              "  <tbody>\n",
              "    <tr>\n",
              "      <th>0</th>\n",
              "      <td>-0.649341</td>\n",
              "      <td>-0.378152</td>\n",
              "      <td>-0.188608</td>\n",
              "      <td>0.189248</td>\n",
              "      <td>-0.659242</td>\n",
              "    </tr>\n",
              "    <tr>\n",
              "      <th>1</th>\n",
              "      <td>0.860746</td>\n",
              "      <td>0.527298</td>\n",
              "      <td>-0.925015</td>\n",
              "      <td>0.872309</td>\n",
              "      <td>-0.635194</td>\n",
              "    </tr>\n",
              "    <tr>\n",
              "      <th>2</th>\n",
              "      <td>0.917327</td>\n",
              "      <td>0.815650</td>\n",
              "      <td>-2.518866</td>\n",
              "      <td>1.516322</td>\n",
              "      <td>0.685744</td>\n",
              "    </tr>\n",
              "  </tbody>\n",
              "</table>\n",
              "</div>"
            ],
            "text/plain": [
              "          0         1         2         3         4\n",
              "0 -0.649341 -0.378152 -0.188608  0.189248 -0.659242\n",
              "1  0.860746  0.527298 -0.925015  0.872309 -0.635194\n",
              "2  0.917327  0.815650 -2.518866  1.516322  0.685744"
            ]
          },
          "metadata": {
            "tags": []
          },
          "execution_count": 14
        }
      ]
    },
    {
      "cell_type": "code",
      "metadata": {
        "colab": {
          "base_uri": "https://localhost:8080/",
          "height": 142
        },
        "id": "Uo6jKOGV-UfD",
        "outputId": "49f52d77-efb9-482f-b6cc-fb848b37ca30"
      },
      "source": [
        "np.exp(df)"
      ],
      "execution_count": 15,
      "outputs": [
        {
          "output_type": "execute_result",
          "data": {
            "text/html": [
              "<div>\n",
              "<style scoped>\n",
              "    .dataframe tbody tr th:only-of-type {\n",
              "        vertical-align: middle;\n",
              "    }\n",
              "\n",
              "    .dataframe tbody tr th {\n",
              "        vertical-align: top;\n",
              "    }\n",
              "\n",
              "    .dataframe thead th {\n",
              "        text-align: right;\n",
              "    }\n",
              "</style>\n",
              "<table border=\"1\" class=\"dataframe\">\n",
              "  <thead>\n",
              "    <tr style=\"text-align: right;\">\n",
              "      <th></th>\n",
              "      <th>0</th>\n",
              "      <th>1</th>\n",
              "      <th>2</th>\n",
              "      <th>3</th>\n",
              "      <th>4</th>\n",
              "    </tr>\n",
              "  </thead>\n",
              "  <tbody>\n",
              "    <tr>\n",
              "      <th>0</th>\n",
              "      <td>0.522390</td>\n",
              "      <td>0.685127</td>\n",
              "      <td>0.828111</td>\n",
              "      <td>1.208341</td>\n",
              "      <td>0.517243</td>\n",
              "    </tr>\n",
              "    <tr>\n",
              "      <th>1</th>\n",
              "      <td>2.364925</td>\n",
              "      <td>1.694348</td>\n",
              "      <td>0.396526</td>\n",
              "      <td>2.392429</td>\n",
              "      <td>0.529833</td>\n",
              "    </tr>\n",
              "    <tr>\n",
              "      <th>2</th>\n",
              "      <td>2.502593</td>\n",
              "      <td>2.260644</td>\n",
              "      <td>0.080551</td>\n",
              "      <td>4.555438</td>\n",
              "      <td>1.985249</td>\n",
              "    </tr>\n",
              "  </tbody>\n",
              "</table>\n",
              "</div>"
            ],
            "text/plain": [
              "          0         1         2         3         4\n",
              "0  0.522390  0.685127  0.828111  1.208341  0.517243\n",
              "1  2.364925  1.694348  0.396526  2.392429  0.529833\n",
              "2  2.502593  2.260644  0.080551  4.555438  1.985249"
            ]
          },
          "metadata": {
            "tags": []
          },
          "execution_count": 15
        }
      ]
    },
    {
      "cell_type": "code",
      "metadata": {
        "colab": {
          "base_uri": "https://localhost:8080/"
        },
        "id": "25NYZBpC_ARu",
        "outputId": "1ab4b84c-2647-4ade-f68b-eb15a39a2d03"
      },
      "source": [
        "np.sum(np.exp(df))"
      ],
      "execution_count": 16,
      "outputs": [
        {
          "output_type": "execute_result",
          "data": {
            "text/plain": [
              "0    5.389907\n",
              "1    4.640118\n",
              "2    1.305187\n",
              "3    8.156208\n",
              "4    3.032325\n",
              "dtype: float64"
            ]
          },
          "metadata": {
            "tags": []
          },
          "execution_count": 16
        }
      ]
    },
    {
      "cell_type": "code",
      "metadata": {
        "colab": {
          "base_uri": "https://localhost:8080/",
          "height": 142
        },
        "id": "xbfxtB5H_OdM",
        "outputId": "4ec7af65-a82f-4452-cb8c-11bf9281512f"
      },
      "source": [
        "res = np.exp(df)/np.sum(np.exp(df))\r\n",
        "res"
      ],
      "execution_count": 18,
      "outputs": [
        {
          "output_type": "execute_result",
          "data": {
            "text/html": [
              "<div>\n",
              "<style scoped>\n",
              "    .dataframe tbody tr th:only-of-type {\n",
              "        vertical-align: middle;\n",
              "    }\n",
              "\n",
              "    .dataframe tbody tr th {\n",
              "        vertical-align: top;\n",
              "    }\n",
              "\n",
              "    .dataframe thead th {\n",
              "        text-align: right;\n",
              "    }\n",
              "</style>\n",
              "<table border=\"1\" class=\"dataframe\">\n",
              "  <thead>\n",
              "    <tr style=\"text-align: right;\">\n",
              "      <th></th>\n",
              "      <th>0</th>\n",
              "      <th>1</th>\n",
              "      <th>2</th>\n",
              "      <th>3</th>\n",
              "      <th>4</th>\n",
              "    </tr>\n",
              "  </thead>\n",
              "  <tbody>\n",
              "    <tr>\n",
              "      <th>0</th>\n",
              "      <td>0.096920</td>\n",
              "      <td>0.147653</td>\n",
              "      <td>0.634477</td>\n",
              "      <td>0.148150</td>\n",
              "      <td>0.170576</td>\n",
              "    </tr>\n",
              "    <tr>\n",
              "      <th>1</th>\n",
              "      <td>0.438769</td>\n",
              "      <td>0.365152</td>\n",
              "      <td>0.303807</td>\n",
              "      <td>0.293326</td>\n",
              "      <td>0.174728</td>\n",
              "    </tr>\n",
              "    <tr>\n",
              "      <th>2</th>\n",
              "      <td>0.464311</td>\n",
              "      <td>0.487195</td>\n",
              "      <td>0.061716</td>\n",
              "      <td>0.558524</td>\n",
              "      <td>0.654695</td>\n",
              "    </tr>\n",
              "  </tbody>\n",
              "</table>\n",
              "</div>"
            ],
            "text/plain": [
              "          0         1         2         3         4\n",
              "0  0.096920  0.147653  0.634477  0.148150  0.170576\n",
              "1  0.438769  0.365152  0.303807  0.293326  0.174728\n",
              "2  0.464311  0.487195  0.061716  0.558524  0.654695"
            ]
          },
          "metadata": {
            "tags": []
          },
          "execution_count": 18
        }
      ]
    },
    {
      "cell_type": "code",
      "metadata": {
        "colab": {
          "base_uri": "https://localhost:8080/"
        },
        "id": "RSUi7rPy_VaN",
        "outputId": "4ac0c0ec-c972-4b3c-c21e-2c5a0e4da742"
      },
      "source": [
        "np.sum(res, axis=0)"
      ],
      "execution_count": 19,
      "outputs": [
        {
          "output_type": "execute_result",
          "data": {
            "text/plain": [
              "0    1.0\n",
              "1    1.0\n",
              "2    1.0\n",
              "3    1.0\n",
              "4    1.0\n",
              "dtype: float64"
            ]
          },
          "metadata": {
            "tags": []
          },
          "execution_count": 19
        }
      ]
    },
    {
      "cell_type": "code",
      "metadata": {
        "colab": {
          "base_uri": "https://localhost:8080/"
        },
        "id": "FvvdyEO2_mhG",
        "outputId": "c9428e4e-fb72-4231-ee53-87a483b5afb5"
      },
      "source": [
        "np.argmax(res[0])"
      ],
      "execution_count": 24,
      "outputs": [
        {
          "output_type": "execute_result",
          "data": {
            "text/plain": [
              "2"
            ]
          },
          "metadata": {
            "tags": []
          },
          "execution_count": 24
        }
      ]
    },
    {
      "cell_type": "code",
      "metadata": {
        "colab": {
          "base_uri": "https://localhost:8080/"
        },
        "id": "EcIO439L_yif",
        "outputId": "90bb3ae9-7a60-42fe-dc0e-a01542c49042"
      },
      "source": [
        "res[0]"
      ],
      "execution_count": 25,
      "outputs": [
        {
          "output_type": "execute_result",
          "data": {
            "text/plain": [
              "0    0.096920\n",
              "1    0.438769\n",
              "2    0.464311\n",
              "Name: 0, dtype: float64"
            ]
          },
          "metadata": {
            "tags": []
          },
          "execution_count": 25
        }
      ]
    },
    {
      "cell_type": "markdown",
      "metadata": {
        "id": "IkNUMAHIBKMs"
      },
      "source": [
        "### Zad 4\r\n",
        "## $tanh(x) = \\frac{e^{x}-e^{-x}}{e^{x}+e^{-x}}$"
      ]
    },
    {
      "cell_type": "code",
      "metadata": {
        "id": "TWWbW8UZACl4"
      },
      "source": [
        "def tanh(x):\r\n",
        "    return (np.exp(x)-np.exp(-x))/(np.exp(x)+np.exp(-x))"
      ],
      "execution_count": 26,
      "outputs": []
    },
    {
      "cell_type": "code",
      "metadata": {
        "colab": {
          "base_uri": "https://localhost:8080/",
          "height": 301
        },
        "id": "zJcGZOzVB4-4",
        "outputId": "59d68113-d38d-41cd-e550-b8b30d04bf7d"
      },
      "source": [
        "data = np.arange(-5,5,0.1)\r\n",
        "tanh_data = [tanh(x) for x in data]\r\n",
        "plt.plot(data, tanh_data)\r\n",
        "plt.title('Tanh', color = 'w')"
      ],
      "execution_count": 32,
      "outputs": [
        {
          "output_type": "execute_result",
          "data": {
            "text/plain": [
              "Text(0.5, 1.0, 'Tanh')"
            ]
          },
          "metadata": {
            "tags": []
          },
          "execution_count": 32
        },
        {
          "output_type": "display_data",
          "data": {
            "image/png": "[encoded data removed]",
            "text/plain": [
              "<Figure size 432x288 with 1 Axes>"
            ]
          },
          "metadata": {
            "tags": [],
            "needs_background": "light"
          }
        }
      ]
    },
    {
      "cell_type": "markdown",
      "metadata": {
        "id": "81nGhQOuC8Of"
      },
      "source": [
        "## Funkcja straty"
      ]
    },
    {
      "cell_type": "markdown",
      "metadata": {
        "id": "SllwuFaFDCsO"
      },
      "source": [
        "### Zad 5,6 Accuracy, Entropia"
      ]
    },
    {
      "cell_type": "code",
      "metadata": {
        "id": "7jufzGrPCKU2"
      },
      "source": [
        "import numpy as np\r\n",
        "\r\n",
        "def entropy(labels, base = None):\r\n",
        "    from math import log, e\r\n",
        "    n_labels = len(labels)\r\n",
        "\r\n",
        "    if n_labels <= 1:\r\n",
        "        return 0\r\n",
        "\r\n",
        "    value, counts = np.unique(labels, return_counts=True)\r\n",
        "    probs = counts / n_labels\r\n",
        "    n_classes = np.count_nonzero(probs)\r\n",
        "\r\n",
        "    if n_classes <=1:\r\n",
        "        return 0\r\n",
        "\r\n",
        "    ent = 0\r\n",
        "    base = e if base is None else base\r\n",
        "    for i in probs:\r\n",
        "        ent -= i*log(i, base)\r\n",
        "    return ent   "
      ],
      "execution_count": 42,
      "outputs": []
    },
    {
      "cell_type": "code",
      "metadata": {
        "colab": {
          "base_uri": "https://localhost:8080/"
        },
        "id": "4gGPR4w0NsHX",
        "outputId": "33f7c7c8-b915-4ccb-99ec-ff985e11111d"
      },
      "source": [
        "labels = [1,3,5,2,3,5,3,2,1,3,4,5]\r\n",
        "entropy(labels=labels)"
      ],
      "execution_count": 43,
      "outputs": [
        {
          "output_type": "execute_result",
          "data": {
            "text/plain": [
              "1.5171063970610277"
            ]
          },
          "metadata": {
            "tags": []
          },
          "execution_count": 43
        }
      ]
    },
    {
      "cell_type": "markdown",
      "metadata": {
        "id": "xgqUNhyROdw2"
      },
      "source": [
        "### Zad 7 Binary CrossEntropy"
      ]
    },
    {
      "cell_type": "code",
      "metadata": {
        "id": "lFiB9_7qNzcO"
      },
      "source": [
        "def binary_crossentropy(y_true, y_pred):\r\n",
        "    y_pred = np.clip(y_pred, 0.00000001, 1-0.0000001)\r\n",
        "    return -y_true*np.log(y_pred) - (1-y_true)*np.log(1-y_pred)"
      ],
      "execution_count": 45,
      "outputs": []
    },
    {
      "cell_type": "code",
      "metadata": {
        "colab": {
          "base_uri": "https://localhost:8080/"
        },
        "id": "xPOVkcgZPH9I",
        "outputId": "676ad306-c420-402f-c0b6-d6d23c498661"
      },
      "source": [
        "y_true = np.array([1,0,0,0,0])\r\n",
        "y_pred = np.array([0.4, 0.3, 0.05, 0.05, 0.2])\r\n",
        "\r\n",
        "binary_crossentropy(y_true, y_pred)"
      ],
      "execution_count": 46,
      "outputs": [
        {
          "output_type": "execute_result",
          "data": {
            "text/plain": [
              "array([0.91629073, 0.35667494, 0.05129329, 0.05129329, 0.22314355])"
            ]
          },
          "metadata": {
            "tags": []
          },
          "execution_count": 46
        }
      ]
    },
    {
      "cell_type": "markdown",
      "metadata": {
        "id": "jp2x4oTxPyfs"
      },
      "source": [
        "### Zad 8 Categorical CrossEntropy"
      ]
    },
    {
      "cell_type": "code",
      "metadata": {
        "id": "Wx8hAnXlP3F2"
      },
      "source": [
        "def categorical_crossentropy(y_tru, y_pred):\r\n",
        "    y_pred = np.clip(y_pred, 0.00000001, 1-0.00000001)\r\n",
        "    return -np.sum(y_true*np.log(y_pred))"
      ],
      "execution_count": 49,
      "outputs": []
    },
    {
      "cell_type": "code",
      "metadata": {
        "colab": {
          "base_uri": "https://localhost:8080/"
        },
        "id": "LENgIADhR_mC",
        "outputId": "4fe8eec2-02cf-48c0-9938-25742c0b9009"
      },
      "source": [
        "y_true = np.array([1,0,0,0,0])\r\n",
        "y_pred = np.array([0.4, 0.3, 0.05, 0.05, 0.2])\r\n",
        "categorical_crossentropy(y_true, y_pred)"
      ],
      "execution_count": 48,
      "outputs": [
        {
          "output_type": "execute_result",
          "data": {
            "text/plain": [
              "0.916290731874155"
            ]
          },
          "metadata": {
            "tags": []
          },
          "execution_count": 48
        }
      ]
    },
    {
      "cell_type": "code",
      "metadata": {
        "colab": {
          "base_uri": "https://localhost:8080/"
        },
        "id": "3szqgax9SCsP",
        "outputId": "98c435d8-e344-4d2a-a306-77efcc81050f"
      },
      "source": [
        "y_true = np.array([1,0,0,0,0])\r\n",
        "y_pred = np.array([0.98, 0.01, 0.0, 0.0, 0.01])\r\n",
        "categorical_crossentropy(y_true, y_pred)"
      ],
      "execution_count": 50,
      "outputs": [
        {
          "output_type": "execute_result",
          "data": {
            "text/plain": [
              "0.020202707317519466"
            ]
          },
          "metadata": {
            "tags": []
          },
          "execution_count": 50
        }
      ]
    },
    {
      "cell_type": "markdown",
      "metadata": {
        "id": "aSvPiAQnTEDA"
      },
      "source": [
        "## Algorytm stochastycznego spadku gradientu"
      ]
    },
    {
      "cell_type": "markdown",
      "metadata": {
        "id": "eroEV1ZlTPyJ"
      },
      "source": [
        "### Zad 9"
      ]
    },
    {
      "cell_type": "code",
      "metadata": {
        "id": "wdZhIr8LSSis"
      },
      "source": [
        "import matplotlib.pyplot as plt\r\n",
        "import numpy as np\r\n",
        "import seaborn as sns\r\n",
        "import pandas as pd\r\n",
        "\r\n",
        "sns.set()"
      ],
      "execution_count": 51,
      "outputs": []
    },
    {
      "cell_type": "code",
      "metadata": {
        "colab": {
          "base_uri": "https://localhost:8080/",
          "height": 301
        },
        "id": "UWEwCkCQaxqy",
        "outputId": "6db2b6f0-ae0e-4b67-8a0d-3bdfa47c8801"
      },
      "source": [
        "w = np.arange(-10,14,0.1)\r\n",
        "loss = w**2-4*w\r\n",
        "point = -5\r\n",
        "\r\n",
        "plt.plot(w, loss)\r\n",
        "plt.plot(-5, (-5)**2-4*(-5), 'ro')\r\n",
        "plt.title('x^2-4')"
      ],
      "execution_count": 54,
      "outputs": [
        {
          "output_type": "execute_result",
          "data": {
            "text/plain": [
              "Text(0.5, 1.0, 'x^2-4')"
            ]
          },
          "metadata": {
            "tags": []
          },
          "execution_count": 54
        },
        {
          "output_type": "display_data",
          "data": {
            "image/png": "[encoded data removed]",
            "text/plain": [
              "<Figure size 432x288 with 1 Axes>"
            ]
          },
          "metadata": {
            "tags": []
          }
        }
      ]
    },
    {
      "cell_type": "code",
      "metadata": {
        "id": "IzRkZ7DYbQsN"
      },
      "source": [
        "def gradient_descent(df=lambda w: 2*w-4, learning_rate = 0.01, w_0 = -5, max_iters=10000, precision = 0.0000001):\r\n",
        "\r\n",
        "    iters = 0\r\n",
        "    previous_step_size = 1\r\n",
        "    weights = []\r\n",
        "\r\n",
        "\r\n",
        "    while (previous_step_size > precision and iters < max_iters):\r\n",
        "        w_prev = w_0\r\n",
        "        w_0 = w_0 - learning_rate*df(w_prev)\r\n",
        "        previous_step_size = abs(w_prev - w_0)\r\n",
        "        iters += 1\r\n",
        "        weights.append(w_0)\r\n",
        "        #rint('Iter #{}: obecny punkt: {}'.format(iters, w_0))\r\n",
        "    print('Minimum globalne: {}'.format(w_0))\r\n",
        "    return weights"
      ],
      "execution_count": 65,
      "outputs": []
    },
    {
      "cell_type": "code",
      "metadata": {
        "colab": {
          "base_uri": "https://localhost:8080/"
        },
        "id": "w9m4GnlzeSKE",
        "outputId": "b4e30d11-27f8-4754-bfed-26a2d6573aef"
      },
      "source": [
        "weights = gradient_descent(learning_rate=0.1)"
      ],
      "execution_count": 68,
      "outputs": [
        {
          "output_type": "stream",
          "text": [
            "Minimum globalne: 1.9999996225607466\n"
          ],
          "name": "stdout"
        }
      ]
    },
    {
      "cell_type": "code",
      "metadata": {
        "colab": {
          "base_uri": "https://localhost:8080/",
          "height": 811
        },
        "id": "hj3gGMNHeUbF",
        "outputId": "5d34d980-a6fb-4bca-9152-d89e5ab13ffe"
      },
      "source": [
        "plt.figure(figsize=(14,14))\r\n",
        "plt.plot(w, loss)\r\n",
        "for weight in weights:\r\n",
        "    plt.plot(weight, weight**2-4*weight, 'ro')"
      ],
      "execution_count": 70,
      "outputs": [
        {
          "output_type": "display_data",
          "data": {
            "image/png": "[encoded data removed]",
            "text/plain": [
              "<Figure size 1008x1008 with 1 Axes>"
            ]
          },
          "metadata": {
            "tags": []
          }
        }
      ]
    },
    {
      "cell_type": "markdown",
      "metadata": {
        "id": "KdiPqGJ_qt0Y"
      },
      "source": [
        "## Implementacja sieci neuronowej"
      ]
    },
    {
      "cell_type": "markdown",
      "metadata": {
        "id": "NYrkVNA7q0dc"
      },
      "source": [
        "### Zad 10"
      ]
    },
    {
      "cell_type": "code",
      "metadata": {
        "id": "5DxunY0re25U"
      },
      "source": [
        "import numpy as np\r\n",
        "\r\n",
        "np.random.seed(0)\r\n",
        "\r\n",
        "X = np.array([[1.0, 0.7]])\r\n",
        "y_true = np.array([1.80])"
      ],
      "execution_count": 81,
      "outputs": []
    },
    {
      "cell_type": "code",
      "metadata": {
        "colab": {
          "base_uri": "https://localhost:8080/"
        },
        "id": "JOozdAwsJCGn",
        "outputId": "53b1a26c-ebe4-44aa-9421-b95709407ed4"
      },
      "source": [
        "print(X)"
      ],
      "execution_count": 82,
      "outputs": [
        {
          "output_type": "stream",
          "text": [
            "[[1.  0.7]]\n"
          ],
          "name": "stdout"
        }
      ]
    },
    {
      "cell_type": "code",
      "metadata": {
        "id": "0JoxaV5rJHrc"
      },
      "source": [
        "def initialize_parameters(n_x, n_h, n_y):\r\n",
        "    W1 = np.random.randn(n_h,n_x)\r\n",
        "    W2 = np.random.randn(n_h,n_y)\r\n",
        "    return W1, W2"
      ],
      "execution_count": 85,
      "outputs": []
    },
    {
      "cell_type": "code",
      "metadata": {
        "colab": {
          "base_uri": "https://localhost:8080/"
        },
        "id": "wQbR9hefJrOE",
        "outputId": "fc70ac8d-519e-4b74-f7d4-ddc7889e30b3"
      },
      "source": [
        "W1, W2 = initialize_parameters(2,2,1)\r\n",
        "W1"
      ],
      "execution_count": 86,
      "outputs": [
        {
          "output_type": "execute_result",
          "data": {
            "text/plain": [
              "array([[0.14404357, 1.45427351],\n",
              "       [0.76103773, 0.12167502]])"
            ]
          },
          "metadata": {
            "tags": []
          },
          "execution_count": 86
        }
      ]
    },
    {
      "cell_type": "code",
      "metadata": {
        "id": "RK8EHsQ7PcZ-"
      },
      "source": [
        "def forward_propagation(X, W1, W2):\r\n",
        "    H = np.dot(X, W1)\r\n",
        "    y_pred = np.dot(H, W2)\r\n",
        "    return H, y_pred"
      ],
      "execution_count": 93,
      "outputs": []
    },
    {
      "cell_type": "code",
      "metadata": {
        "id": "b52Fv38UP1zS"
      },
      "source": [
        "def calculate_error(y_true, y_pred):\r\n",
        "    return y_pred - y_true"
      ],
      "execution_count": 94,
      "outputs": []
    },
    {
      "cell_type": "markdown",
      "metadata": {
        "id": "vtY6DYY_Wncb"
      },
      "source": [
        "### Zad 11"
      ]
    },
    {
      "cell_type": "code",
      "metadata": {
        "id": "-Mgu9UnnQTbZ"
      },
      "source": [
        "def backpropagation(X, W1, W2, learning_rate = 0.01, iters=1000, precision = 0.0000001):\r\n",
        "\r\n",
        "    H, y_pred = forward_propagation(X, W1, W2)\r\n",
        "    for i in range(iters):\r\n",
        "        error = calculate_error(y_true, y_pred)\r\n",
        "        W2 = W2 - learning_rate*error*H.T\r\n",
        "        W1 = W1 - learning_rate*error*X.T*W2.T\r\n",
        "        _, y_pred = forward_propagation(X, W1, W2)\r\n",
        "\r\n",
        "        print(f'Iter {i}, y_pred: {y_pred[0][0]}, error: {calculate_error(y_true, y_pred)[0][0]}')\r\n",
        "        if abs(error)<precision:\r\n",
        "            break\r\n",
        "    return W1, W2\r\n",
        "\r\n",
        "def predict(X, W1, W2):\r\n",
        "    _, y_pred = forward_propagation(X, W1, W2)\r\n",
        "    return y_pred\r\n",
        "\r\n",
        "def build_model():\r\n",
        "    W1, W2 = initialize_parameters(2,2,1)\r\n",
        "    W1, W2 = backpropagation(X, W1, W2)\r\n",
        "\r\n",
        "    model = {'W1': W1, 'W2': W2}\r\n",
        "    return model"
      ],
      "execution_count": 101,
      "outputs": []
    },
    {
      "cell_type": "code",
      "metadata": {
        "colab": {
          "base_uri": "https://localhost:8080/"
        },
        "id": "dKlqBV-jRJ7P",
        "outputId": "6bf8c7eb-15d0-4d86-ffe1-6722a74ad27f"
      },
      "source": [
        "np.set_printoptions(suppress=True)\r\n",
        "build_model()"
      ],
      "execution_count": 103,
      "outputs": [
        {
          "output_type": "stream",
          "text": [
            "Iter 0, y_pred: 2.3337118587091954, error: 0.5337118587091954\n",
            "Iter 1, y_pred: 2.294261526598468, error: 0.494261526598468\n",
            "Iter 2, y_pred: 2.2579850271555997, error: 0.45798502715559963\n",
            "Iter 3, y_pred: 2.2245895253260377, error: 0.42458952532603766\n",
            "Iter 4, y_pred: 2.193814660216892, error: 0.39381466021689193\n",
            "Iter 5, y_pred: 2.165428162614328, error: 0.3654281626143281\n",
            "Iter 6, y_pred: 2.1392221747545856, error: 0.3392221747545856\n",
            "Iter 7, y_pred: 2.1150101434241626, error: 0.31501014342416256\n",
            "Iter 8, y_pred: 2.0926241838340855, error: 0.2926241838340855\n",
            "Iter 9, y_pred: 2.0719128321814684, error: 0.27191283218146833\n",
            "Iter 10, y_pred: 2.052739120806457, error: 0.2527391208064571\n",
            "Iter 11, y_pred: 2.0349789224316344, error: 0.23497892243163432\n",
            "Iter 12, y_pred: 2.0185195199236237, error: 0.21851951992362362\n",
            "Iter 13, y_pred: 2.0032583659366794, error: 0.20325836593667934\n",
            "Iter 14, y_pred: 1.9891020031352926, error: 0.18910200313529257\n",
            "Iter 15, y_pred: 1.97596512079019, error: 0.17596512079019\n",
            "Iter 16, y_pred: 1.963769727662663, error: 0.16376972766266285\n",
            "Iter 17, y_pred: 1.9524444244391528, error: 0.15244442443915274\n",
            "Iter 18, y_pred: 1.941923761709105, error: 0.14192376170910492\n",
            "Iter 19, y_pred: 1.93214767171752, error: 0.13214767171752007\n",
            "Iter 20, y_pred: 1.9230609639659706, error: 0.12306096396597055\n",
            "Iter 21, y_pred: 1.9146128762584707, error: 0.11461287625847061\n",
            "Iter 22, y_pred: 1.9067566740518407, error: 0.10675667405184064\n",
            "Iter 23, y_pred: 1.899449292022319, error: 0.09944929202231889\n",
            "Iter 24, y_pred: 1.8926510126396188, error: 0.09265101263961872\n",
            "Iter 25, y_pred: 1.8863251772773488, error: 0.08632517727734879\n",
            "Iter 26, y_pred: 1.880437926009708, error: 0.0804379260097079\n",
            "Iter 27, y_pred: 1.8749579627687925, error: 0.07495796276879241\n",
            "Iter 28, y_pred: 1.869856342981207, error: 0.06985634298120691\n",
            "Iter 29, y_pred: 1.8651062811803347, error: 0.06510628118033468\n",
            "Iter 30, y_pred: 1.8606829764125885, error: 0.06068297641258846\n",
            "Iter 31, y_pred: 1.8565634535312663, error: 0.05656345353126624\n",
            "Iter 32, y_pred: 1.8527264187077153, error: 0.05272641870771522\n",
            "Iter 33, y_pred: 1.8491521276925267, error: 0.04915212769252664\n",
            "Iter 34, y_pred: 1.845822265534543, error: 0.04582226553454305\n",
            "Iter 35, y_pred: 1.8427198366168331, error: 0.042719836616833096\n",
            "Iter 36, y_pred: 1.8398290639999992, error: 0.03982906399999919\n",
            "Iter 37, y_pred: 1.8371352971772352, error: 0.03713529717723518\n",
            "Iter 38, y_pred: 1.8346249274449165, error: 0.03462492744491641\n",
            "Iter 39, y_pred: 1.8322853101792935, error: 0.03228531017929348\n",
            "Iter 40, y_pred: 1.8301046933858505, error: 0.030104693385850423\n",
            "Iter 41, y_pred: 1.8280721519545733, error: 0.028072151954573243\n",
            "Iter 42, y_pred: 1.8261775271130332, error: 0.026177527113033117\n",
            "Iter 43, y_pred: 1.8244113706208969, error: 0.024411370620896822\n",
            "Iter 44, y_pred: 1.8227648932951597, error: 0.022764893295159627\n",
            "Iter 45, y_pred: 1.8212299174958586, error: 0.021229917495858563\n",
            "Iter 46, y_pred: 1.8197988332379023, error: 0.019798833237902214\n",
            "Iter 47, y_pred: 1.8184645576265681, error: 0.018464557626568068\n",
            "Iter 48, y_pred: 1.8172204973426536, error: 0.017220497342653518\n",
            "Iter 49, y_pred: 1.8160605139286288, error: 0.016060513928628728\n",
            "Iter 50, y_pred: 1.8149788916498435, error: 0.014978891649843451\n",
            "Iter 51, y_pred: 1.8139703077251679, error: 0.01397030772516783\n",
            "Iter 52, y_pred: 1.8130298047396987, error: 0.013029804739698614\n",
            "Iter 53, y_pred: 1.812152765068572, error: 0.012152765068571991\n",
            "Iter 54, y_pred: 1.8113348871557013, error: 0.011334887155701301\n",
            "Iter 55, y_pred: 1.8105721635046048, error: 0.01057216350460477\n",
            "Iter 56, y_pred: 1.8098608602505193, error: 0.009860860250519243\n",
            "Iter 57, y_pred: 1.8091974981939174, error: 0.009197498193917353\n",
            "Iter 58, y_pred: 1.8085788351854242, error: 0.008578835185424127\n",
            "Iter 59, y_pred: 1.808001849761099, error: 0.008001849761098967\n",
            "Iter 60, y_pred: 1.807463725935211, error: 0.007463725935211052\n",
            "Iter 61, y_pred: 1.806961839065046, error: 0.006961839065045883\n",
            "Iter 62, y_pred: 1.8064937427090657, error: 0.006493742709065664\n",
            "Iter 63, y_pred: 1.8060571564059007, error: 0.006057156405900654\n",
            "Iter 64, y_pred: 1.8056499543072957, error: 0.005649954307295646\n",
            "Iter 65, y_pred: 1.8052701546032932, error: 0.0052701546032931645\n",
            "Iter 66, y_pred: 1.8049159096826617, error: 0.0049159096826616455\n",
            "Iter 67, y_pred: 1.8045854969758925, error: 0.0045854969758925\n",
            "Iter 68, y_pred: 1.8042773104320757, error: 0.004277310432075687\n",
            "Iter 69, y_pred: 1.8039898525846, error: 0.003989852584600051\n",
            "Iter 70, y_pred: 1.8037217271639852, error: 0.0037217271639851113\n",
            "Iter 71, y_pred: 1.8034716322192224, error: 0.0034716322192223092\n",
            "Iter 72, y_pred: 1.8032383537118568, error: 0.0032383537118567673\n",
            "Iter 73, y_pred: 1.8030207595496501, error: 0.003020759549650087\n",
            "Iter 74, y_pred: 1.8028177940290704, error: 0.002817794029070342\n",
            "Iter 75, y_pred: 1.8026284726580968, error: 0.0026284726580967366\n",
            "Iter 76, y_pred: 1.8024518773328637, error: 0.0024518773328636723\n",
            "Iter 77, y_pred: 1.8022871518435857, error: 0.002287151843585633\n",
            "Iter 78, y_pred: 1.8021334976869405, error: 0.0021334976869404887\n",
            "Iter 79, y_pred: 1.8019901701637313, error: 0.001990170163731264\n",
            "Iter 80, y_pred: 1.8018564747421313, error: 0.0018564747421312422\n",
            "Iter 81, y_pred: 1.8017317636682277, error: 0.0017317636682276927\n",
            "Iter 82, y_pred: 1.8016154328068439, error: 0.0016154328068438417\n",
            "Iter 83, y_pred: 1.8015069186968413, error: 0.001506918696841275\n",
            "Iter 84, y_pred: 1.8014056958061857, error: 0.0014056958061856584\n",
            "Iter 85, y_pred: 1.801311273973105, error: 0.0013112739731049317\n",
            "Iter 86, y_pred: 1.801223196020609, error: 0.001223196020609052\n",
            "Iter 87, y_pred: 1.8011410355325397, error: 0.001141035532539636\n",
            "Iter 88, y_pred: 1.8010643947801144, error: 0.0010643947801143305\n",
            "Iter 89, y_pred: 1.800992902788727, error: 0.0009929027887269903\n",
            "Iter 90, y_pred: 1.8009262135354374, error: 0.0009262135354373147\n",
            "Iter 91, y_pred: 1.800864004268272, error: 0.000864004268271934\n",
            "Iter 92, y_pred: 1.8008059739390523, error: 0.0008059739390522402\n",
            "Iter 93, y_pred: 1.8007518417420387, error: 0.0007518417420386836\n",
            "Iter 94, y_pred: 1.8007013457512158, error: 0.0007013457512157206\n",
            "Iter 95, y_pred: 1.8006542416495184, error: 0.0006542416495183279\n",
            "Iter 96, y_pred: 1.8006103015437842, error: 0.0006103015437841641\n",
            "Iter 97, y_pred: 1.800569312859609, error: 0.0005693128596089281\n",
            "Iter 98, y_pred: 1.8005310773107064, error: 0.0005310773107063405\n",
            "Iter 99, y_pred: 1.8004954099377315, error: 0.0004954099377314503\n",
            "Iter 100, y_pred: 1.8004621382118653, error: 0.0004621382118652484\n",
            "Iter 101, y_pred: 1.8004311011987868, error: 0.0004311011987867541\n",
            "Iter 102, y_pred: 1.800402148778956, error: 0.0004021487789560574\n",
            "Iter 103, y_pred: 1.8003751409203972, error: 0.0003751409203971434\n",
            "Iter 104, y_pred: 1.80034994700044, error: 0.0003499470004399985\n",
            "Iter 105, y_pred: 1.800326445173127, error: 0.0003264451731268547\n",
            "Iter 106, y_pred: 1.8003045217791829, error: 0.0003045217791828314\n",
            "Iter 107, y_pred: 1.8002840707957015, error: 0.0002840707957014743\n",
            "Iter 108, y_pred: 1.8002649933228498, error: 0.0002649933228497936\n",
            "Iter 109, y_pred: 1.8002471971051117, error: 0.0002471971051116739\n",
            "Iter 110, y_pred: 1.80023059608473, error: 0.00023059608472997262\n",
            "Iter 111, y_pred: 1.8002151099851889, error: 0.00021510998518881053\n",
            "Iter 112, y_pred: 1.8002006639227046, error: 0.00020066392270456923\n",
            "Iter 113, y_pred: 1.8001871880438438, error: 0.00018718804384376675\n",
            "Iter 114, y_pred: 1.8001746171875055, error: 0.00017461718750544364\n",
            "Iter 115, y_pred: 1.800162890569634, error: 0.00016289056963403326\n",
            "Iter 116, y_pred: 1.8001519514891227, error: 0.0001519514891226148\n",
            "Iter 117, y_pred: 1.8001417470534926, error: 0.0001417470534925691\n",
            "Iter 118, y_pred: 1.8001322279230065, error: 0.00013222792300648933\n",
            "Iter 119, y_pred: 1.8001233480719863, error: 0.0001233480719862179\n",
            "Iter 120, y_pred: 1.8001150645661694, error: 0.0001150645661693872\n",
            "Iter 121, y_pred: 1.8001073373550287, error: 0.00010733735502865827\n",
            "Iter 122, y_pred: 1.8001001290780507, error: 0.00010012907805068139\n",
            "Iter 123, y_pred: 1.8000934048840298, error: 9.340488402975744e-05\n",
            "Iter 124, y_pred: 1.8000871322625074, error: 8.713226250733896e-05\n",
            "Iter 125, y_pred: 1.8000812808865347, error: 8.12808865346959e-05\n",
            "Iter 126, y_pred: 1.8000758224660047, error: 7.582246600468245e-05\n",
            "Iter 127, y_pred: 1.8000707306108332, error: 7.073061083318066e-05\n",
            "Iter 128, y_pred: 1.800065980703336, error: 6.598070333585504e-05\n",
            "Iter 129, y_pred: 1.8000615497791799, error: 6.154977917982585e-05\n",
            "Iter 130, y_pred: 1.8000574164163297, error: 5.741641632961425e-05\n",
            "Iter 131, y_pred: 1.8000535606314578, error: 5.3560631457783e-05\n",
            "Iter 132, y_pred: 1.8000499637833123, error: 4.996378331223461e-05\n",
            "Iter 133, y_pred: 1.8000466084825768, error: 4.660848257675987e-05\n",
            "Iter 134, y_pred: 1.800043478507783, error: 4.347850778296802e-05\n",
            "Iter 135, y_pred: 1.8000405587268768, error: 4.055872687680484e-05\n",
            "Iter 136, y_pred: 1.8000378350240465, error: 3.783502404641759e-05\n",
            "Iter 137, y_pred: 1.8000352942314726, error: 3.529423147252686e-05\n",
            "Iter 138, y_pred: 1.8000329240656574, error: 3.292406565735817e-05\n",
            "Iter 139, y_pred: 1.8000307130680326, error: 3.07130680325951e-05\n",
            "Iter 140, y_pred: 1.8000286505495566, error: 2.8650549556585858e-05\n",
            "Iter 141, y_pred: 1.8000267265390342, error: 2.6726539034127583e-05\n",
            "Iter 142, y_pred: 1.800024931734903, error: 2.493173490303313e-05\n",
            "Iter 143, y_pred: 1.8000232574602641, error: 2.3257460264103358e-05\n",
            "Iter 144, y_pred: 1.8000216956209292, error: 2.169562092912969e-05\n",
            "Iter 145, y_pred: 1.8000202386662856, error: 2.0238666285532503e-05\n",
            "Iter 146, y_pred: 1.8000188795527912, error: 1.887955279111786e-05\n",
            "Iter 147, y_pred: 1.8000176117099211, error: 1.7611709921094842e-05\n",
            "Iter 148, y_pred: 1.8000164290083998, error: 1.6429008399709844e-05\n",
            "Iter 149, y_pred: 1.8000153257305682, error: 1.532573056817199e-05\n",
            "Iter 150, y_pred: 1.8000142965427408, error: 1.4296542740765972e-05\n",
            "Iter 151, y_pred: 1.800013336469418, error: 1.333646941792388e-05\n",
            "Iter 152, y_pred: 1.800012440869234, error: 1.2440869233909524e-05\n",
            "Iter 153, y_pred: 1.8000116054125135, error: 1.160541251343794e-05\n",
            "Iter 154, y_pred: 1.8000108260603438, error: 1.0826060343749333e-05\n",
            "Iter 155, y_pred: 1.800010099045045, error: 1.0099045044897892e-05\n",
            "Iter 156, y_pred: 1.8000094208519566, error: 9.420851956543075e-06\n",
            "Iter 157, y_pred: 1.8000087882024454, error: 8.788202445320081e-06\n",
            "Iter 158, y_pred: 1.8000081980380547, error: 8.19803805462982e-06\n",
            "Iter 159, y_pred: 1.800007647505718, error: 7.64750571802253e-06\n",
            "Iter 160, y_pred: 1.8000071339439672, error: 7.133943967119194e-06\n",
            "Iter 161, y_pred: 1.800006654870063, error: 6.65487006301646e-06\n",
            "Iter 162, y_pred: 1.8000062079679953, error: 6.207967995219832e-06\n",
            "Iter 163, y_pred: 1.8000057910772844, error: 5.791077284378332e-06\n",
            "Iter 164, y_pred: 1.800005402182537, error: 5.402182536862199e-06\n",
            "Iter 165, y_pred: 1.800005039403702, error: 5.039403701889711e-06\n",
            "Iter 166, y_pred: 1.800004700986984, error: 4.70098698390764e-06\n",
            "Iter 167, y_pred: 1.8000043852963616, error: 4.385296361597568e-06\n",
            "Iter 168, y_pred: 1.8000040908056805, error: 4.090805680423415e-06\n",
            "Iter 169, y_pred: 1.8000038160912737, error: 3.816091273645128e-06\n",
            "Iter 170, y_pred: 1.8000035598250803, error: 3.5598250802681974e-06\n",
            "Iter 171, y_pred: 1.800003320768225, error: 3.320768224845949e-06\n",
            "Iter 172, y_pred: 1.8000030977650272, error: 3.097765027160193e-06\n",
            "Iter 173, y_pred: 1.8000028897374167, error: 2.8897374166891865e-06\n",
            "Iter 174, y_pred: 1.8000026956797195, error: 2.6956797194443993e-06\n",
            "Iter 175, y_pred: 1.8000025146537972, error: 2.514653797192068e-06\n",
            "Iter 176, y_pred: 1.8000023457845122, error: 2.3457845121921395e-06\n",
            "Iter 177, y_pred: 1.8000021882554946, error: 2.1882554945840127e-06\n",
            "Iter 178, y_pred: 1.8000020413051987, error: 2.04130519865231e-06\n",
            "Iter 179, y_pred: 1.800001904223219, error: 1.9042232188848374e-06\n",
            "Iter 180, y_pred: 1.800001776346857, error: 1.7763468569409469e-06\n",
            "Iter 181, y_pred: 1.8000016570579176, error: 1.6570579175478883e-06\n",
            "Iter 182, y_pred: 1.8000015457797194, error: 1.5457797193363376e-06\n",
            "Iter 183, y_pred: 1.8000014419743082, error: 1.4419743081806047e-06\n",
            "Iter 184, y_pred: 1.8000013451398555, error: 1.3451398555019978e-06\n",
            "Iter 185, y_pred: 1.8000012548082325, error: 1.2548082324315146e-06\n",
            "Iter 186, y_pred: 1.8000011705427472, error: 1.1705427471753183e-06\n",
            "Iter 187, y_pred: 1.8000010919360339, error: 1.0919360338146333e-06\n",
            "Iter 188, y_pred: 1.8000010186080826, error: 1.018608082548056e-06\n",
            "Iter 189, y_pred: 1.800000950204403, error: 9.502044029385814e-07\n",
            "Iter 190, y_pred: 1.8000008863943096, error: 8.863943095072102e-07\n",
            "Iter 191, y_pred: 1.8000008268693242, error: 8.268693241220149e-07\n",
            "Iter 192, y_pred: 1.8000007713416843, error: 7.713416843024845e-07\n",
            "Iter 193, y_pred: 1.800000719542952, error: 7.195429518880303e-07\n",
            "Iter 194, y_pred: 1.8000006712227161, error: 6.71222716075448e-07\n",
            "Iter 195, y_pred: 1.8000006261473804, error: 6.261473803892414e-07\n",
            "Iter 196, y_pred: 1.8000005840990376, error: 5.840990375816091e-07\n",
            "Iter 197, y_pred: 1.8000005448744119, error: 5.448744118119464e-07\n",
            "Iter 198, y_pred: 1.80000050828388, error: 5.082838798742273e-07\n",
            "Iter 199, y_pred: 1.8000004741505513, error: 4.7415055126620587e-07\n",
            "Iter 200, y_pred: 1.8000004423094143, error: 4.423094142058659e-07\n",
            "Iter 201, y_pred: 1.8000004126065394, error: 4.1260653937946756e-07\n",
            "Iter 202, y_pred: 1.800000384898333, error: 3.848983329834965e-07\n",
            "Iter 203, y_pred: 1.8000003590508458, error: 3.590508457218533e-07\n",
            "Iter 204, y_pred: 1.800000334939123, error: 3.349391228812948e-07\n",
            "Iter 205, y_pred: 1.8000003124465997, error: 3.124465997039749e-07\n",
            "Iter 206, y_pred: 1.800000291464541, error: 2.914645409468619e-07\n",
            "Iter 207, y_pred: 1.8000002718915133, error: 2.7189151330375694e-07\n",
            "Iter 208, y_pred: 1.8000002536328936, error: 2.536328935764942e-07\n",
            "Iter 209, y_pred: 1.8000002366004144, error: 2.3660041437167934e-07\n",
            "Iter 210, y_pred: 1.8000002207117354, error: 2.2071173533255717e-07\n",
            "Iter 211, y_pred: 1.8000002058900457, error: 2.0589004567916902e-07\n",
            "Iter 212, y_pred: 1.8000001920636932, error: 1.9206369317181782e-07\n",
            "Iter 213, y_pred: 1.800000179165836, error: 1.7916583594512758e-07\n",
            "Iter 214, y_pred: 1.8000001671341226, error: 1.6713412254176774e-07\n",
            "Iter 215, y_pred: 1.8000001559103873, error: 1.5591038726725515e-07\n",
            "Iter 216, y_pred: 1.800000145440372, error: 1.4544037196806414e-07\n",
            "Iter 217, y_pred: 1.8000001356734603, error: 1.3567346024423443e-07\n",
            "Iter 218, y_pred: 1.8000001265624368, error: 1.2656243675301937e-07\n",
            "Iter 219, y_pred: 1.800000118063255, error: 1.1806325495022918e-07\n",
            "Iter 220, y_pred: 1.8000001101348277, error: 1.1013482770216854e-07\n",
            "Iter 221, y_pred: 1.800000102738827, error: 1.0273882700140291e-07\n",
            "Iter 222, y_pred: 1.8000000958394975, error: 9.583949744929043e-08\n",
            "Iter 223, y_pred: 1.8000000894034858, error: 8.940348572572532e-08\n"
          ],
          "name": "stdout"
        },
        {
          "output_type": "execute_result",
          "data": {
            "text/plain": [
              "{'W1': array([[-1.18806937,  0.7481478 ],\n",
              "        [-1.56858965, -0.23328007]]), 'W2': array([[-0.70148433],\n",
              "        [ 0.33572491]])}"
            ]
          },
          "metadata": {
            "tags": []
          },
          "execution_count": 103
        }
      ]
    },
    {
      "cell_type": "code",
      "metadata": {
        "id": "mHhVZKWYTgdu"
      },
      "source": [
        ""
      ],
      "execution_count": null,
      "outputs": []
    }
  ]
}